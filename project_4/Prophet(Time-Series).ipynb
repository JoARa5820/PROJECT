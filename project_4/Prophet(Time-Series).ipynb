{
 "cells": [
  {
   "cell_type": "markdown",
   "metadata": {},
   "source": [
    "# Prophet"
   ]
  },
  {
   "cell_type": "markdown",
   "metadata": {
    "tags": []
   },
   "source": [
    "------------\n",
    "## - 정의"
   ]
  },
  {
   "cell_type": "code",
   "execution_count": null,
   "metadata": {},
   "outputs": [],
   "source": [
    "# - 페이스북에서 공개한 시계열 예측 라이브러리\n",
    "# - 정확도가 높고 빠르며 직관적인 파라미터로 모델 수정이 용이\n",
    "# - Prophet 모델의 주요 구성 요소 : (1) Trend / (2) Seasonality / (3) Holiday\n",
    "# - 공식 : y(t) = g(t) + s(t) + h(t) + ϵi\n",
    "\n",
    "# - g(t) : piecewise linear or logistic growth curve for modelling non-periodic changes in time series\n",
    "# - s(t) : periodic changes (e.g. weekly/yearly seasonality)\n",
    "# - h(t) : effects of holidays (user provided) with irregular schedules\n",
    "# - ϵi: error term accounts for any unusual changes not accommodated by the model\n",
    "\n",
    "# - Trend를 구성하는 g(t) 함수는 '주기적이지 않은 변화인 트렌드'를 나타내며, 부분적으로 선형 또는 logistic 곡선으로 이루어져 있음.\n",
    "# - Seasonality인 s(t) 함수는 weekly, yearly 등 '주기적으로 나타나는 패턴'들을 포함\n",
    "#   Prophet 알고리즘은 푸리에급수(Fourier series)를 이용하여 seasonality 패턴을 추정 (푸리에급수는 주기가 있는 함수를 삼각함수의 급수로 나타낸 것)\n",
    "# - Holiday를 나타내는 h(t) 함수는 '휴일과 같이 불규칙한 이벤트'들을 나타내며, 만약 특정 기간에 값이 비정상적으로 증가 또는 감소했다면 holiday로 정의하여 모델에 반영할 수 있음.\n",
    "# - 마지막으로 ϵi는 '정규분포라고 가정한 오차'임\n",
    "\n",
    "# 사용 데이터셋(train_data)은 '날짜/수치' 컬럼으로 이루어진 데이터프레임 / 지수평활과 비슷한 구조\n",
    "\n",
    "# 참고 : https://hyperconnect.github.io/2020/03/09/prophet-package.html"
   ]
  },
  {
   "cell_type": "markdown",
   "metadata": {
    "tags": []
   },
   "source": [
    "## - Parameter 설명"
   ]
  },
  {
   "cell_type": "markdown",
   "metadata": {},
   "source": [
    "### (1) Trend"
   ]
  },
  {
   "cell_type": "code",
   "execution_count": null,
   "metadata": {},
   "outputs": [],
   "source": [
    "# ## Trend\n",
    "# # (1) changepoint_prior_scale 값을 높일수록 changepoint(Trend가 변화하는 지점)를 더 민감하게 감지하지만\n",
    "# #     값을 너무 높이면 overfitting의 위험이 있음\n",
    "# # (2) 트렌드가 바뀌는 시점, 즉 '서비스 확대 배포' 또는 '프로모션 등으로 인한 변화 시점'을 알고 있다면\n",
    "# #     changepoints 파라미터를 추가할 수 있고\n",
    "# #     n_changepoints로 changepoints 수를 지정할 수 있음\n",
    "# #     (위의 두 파라미터를 설정해주지 않아도 모델이 자동으로 감지함)\n",
    "\n",
    "# changepoints             : 트렌드 변화시점을 명시하는 리스트 값\n",
    "# changepoint_prior_scale  : changepoint의 유연성 조절(default : 0.05)\n",
    "# n_changepoints           : changepoint의 개수\n",
    "# changepoint_range        : changepoint 설정 가능 범위(기본적으로 데이터 중 80% 범위 내에서 changepoint를 설정)"
   ]
  },
  {
   "cell_type": "markdown",
   "metadata": {},
   "source": [
    "### (2) Seasonality"
   ]
  },
  {
   "cell_type": "code",
   "execution_count": null,
   "metadata": {},
   "outputs": [],
   "source": [
    "# ## Seasonality\n",
    "# # (1) seasonality :\n",
    "# #   - 값을 높여주면 주기 패턴을 더 유연하게 잡아주지만 너무 유연하게 fitting 된 모델은 overfitting 위험이 높음\n",
    "# #   - daily/weely/yearly seasonality에 대한 파라미터는 제공되지만, monthly는 제공되지 않지만 임의로 seasonality를 정의하여 모델에 반영할 수 있음\n",
    "# #   - model.add_seasonality(name='monthly', period=30.5, fourier_order=5) / 주기가 30.5일, fourier order가 5인 ‘monthly’라는 명칭의 seasonality를 추가\n",
    "# # (2) seasonality_mode :\n",
    "# #   - Additive와 Multiplicative를 잘못 구분하면 오차항을 제대로 분리하지 못하게 됨\n",
    "# #   - Additive : 데이터의 진폭이 일정함 (Additive Seasonality : Time series = Trend + Seasonality + Error)\n",
    "# #   - Multiplicative : 데이터의 진폭이 점점 증가하거나 감소함 (Multiplicative Seasonality : Time series = Trend * Seasonality * Error)\n",
    "\n",
    "# yearly_seasonality       : 연 계절성(default : 10 / 숫자값 또는 False로 조절)\n",
    "# weekly_seasonality       : 주 계절성(default : 10 / 숫자값 또는 False로 조절)\n",
    "# daily_seasonality        : 일 계절성(default : 10 / 숫자값 또는 False로 조절)\n",
    "# seasonality_prior_scale  : 계절성 반영 강도\n",
    "# seasonality_mode         : 'additive' or 'multiplicative' (default : additive)"
   ]
  },
  {
   "cell_type": "markdown",
   "metadata": {},
   "source": [
    "### (3) Holiday"
   ]
  },
  {
   "cell_type": "code",
   "execution_count": null,
   "metadata": {},
   "outputs": [],
   "source": [
    "# ## Holiday\n",
    "# # (1) 데이터에 영향을 미치는 '휴일'이나 '프로모션 같은 이벤트'를 알고 있다면 모델에 반영하여 정확도를 높일 수 있음\n",
    "# # (2) model.add_country_holidays(country_name='국가코드') : 국가 공휴일을 불러올 수 있음(하지만 모든 국가의 공휴일이 있는건 아님)\n",
    "# # (3) holiday의 정보를 담은 데이터 프레임을 생성\n",
    "# #     휴일이 휴일 (전/후)에도 영향을 미친다면, 해당 일 수 만큼 파라미터로 설정해 줄 수 있음\n",
    "# #     예를 들어, 공휴일 영향이 그 다음날에도 영향을 미친다면 lower_window=0, upper_window=1 을 추가해줌\n",
    "# # [holiday 정의 예시]\n",
    "# # holiday = pd.DataFrame({'holiday': 'holiday',\n",
    "# #                         'ds': pd.concat([pd.Series(pd.date_range('2017-05-05', '2017-06-03', freq='D')),\n",
    "# #                                          pd.Series(pd.date_range('2018-05-05', '2018-06-03', freq='D')),\n",
    "# #                                          pd.Series(pd.date_range('2019-05-05', '2019-06-03', freq='D')),\n",
    "# #                                          pd.Series(pd.date_range('2020-05-05', '2020-06-03', freq='D'))])\n",
    "# #                         lower_window = 0,\n",
    "# #                         upper_window = 1})\n",
    "# # [정의한 holiday 적용 예시]\n",
    "# # m = Prophet(   \n",
    "# #                 # trend\n",
    "# #                 changepoint_prior_scale = 0.3,\n",
    "# #                 # seasonality\n",
    "# #                 weekly_seasonality = 10,\n",
    "# #                 yearly_seasonality = 10,\n",
    "# #                 daily_seasonality = False,\n",
    "# #                 seasonality_mode = 'multiplicative',\n",
    "# #                 # holiday\n",
    "# #                 holidays = holiday,\n",
    "# #                 holidays_prior_scale = 15\n",
    "# #             )\n",
    "\n",
    "# holidays             : 휴일 또는 이벤트 기간을 명시한 데이터프레임\n",
    "# holiday_prior_scale  : holiday 반영 강도"
   ]
  },
  {
   "cell_type": "markdown",
   "metadata": {},
   "source": [
    "---------"
   ]
  },
  {
   "cell_type": "markdown",
   "metadata": {
    "tags": []
   },
   "source": [
    "## 0. 환경설정"
   ]
  },
  {
   "cell_type": "code",
   "execution_count": 2,
   "metadata": {},
   "outputs": [],
   "source": [
    "import numpy as np\n",
    "import pandas as pd\n",
    "import time\n",
    "import glob\n",
    "import pickle\n",
    "import itertools\n",
    "\n",
    "import seaborn as sns\n",
    "import matplotlib.pyplot as plt  # from matplotlib import pyplot as plt\n",
    "from matplotlib import font_manager, rc\n",
    "%matplotlib inline\n",
    "\n",
    "# !pip install pystan\n",
    "# !pip install fbprophet\n",
    "\n",
    "from fbprophet import Prophet\n",
    "from fbprophet.plot import plot_plotly, plot_components_plotly\n",
    "from fbprophet.plot import add_changepoints_to_plot\n",
    "from sklearn.metrics import mean_squared_error, r2_score, mean_absolute_error\n",
    "from sklearn.model_selection import ParameterGrid\n",
    "\n",
    "import warnings\n",
    "warnings.filterwarnings('ignore')\n",
    "\n",
    "# 데이터프레임 출력 옵션\n",
    "pd.set_option('display.max_columns', 100)\n",
    "\n",
    "#지수표현\n",
    "pd.options.display.float_format = '{:.5f}'.format\n",
    "\n",
    "# # 그래프 폰트\n",
    "# font_name = font_manager.FontProperties(fname=\"c:/Windows/Fonts/malgun.ttf\").get_name()\n",
    "# rc('font', family=font_name)\n",
    "# plt.rc('font', family='Malgun Gothic')\n",
    "# plt.rcParams[\"figure.figsize\"] = (8, 4)\n",
    "# plt.rcParams['axes.unicode_minus'] = False"
   ]
  },
  {
   "cell_type": "markdown",
   "metadata": {},
   "source": [
    "## 1. Modeling 예시"
   ]
  },
  {
   "cell_type": "code",
   "execution_count": null,
   "metadata": {},
   "outputs": [],
   "source": [
    "# ## [예시 1]\n",
    "# # 예측 건수 설정\n",
    "# pred_periods = 100\n",
    "\n",
    "# # 모델 생성\n",
    "# model = Prophet()\n",
    "# model.fit(train_data)\n",
    "\n",
    "# # 예측 수행\n",
    "# future = model.make_future_dataframe(periods = pred_periods)\n",
    "# forecast = model.predict(future)\n",
    "\n",
    "# # 예측 결과를 시각화\n",
    "# fig1 = model.plot(forecast)\n",
    "\n",
    "# # fitting된 모델의 컴포넌트들을 시각화\n",
    "# fig2 = model.plot_components(forecast)"
   ]
  },
  {
   "cell_type": "code",
   "execution_count": null,
   "metadata": {},
   "outputs": [],
   "source": [
    "# ## [예시 2]\n",
    "# # add_changepoints_to_plot : 모델의 changepoint를 시각화 해보고, changepoint_prior_scale 값 변경에 따른 Trend 변화를 살펴봄\n",
    "# model = Prophet(\n",
    "#                     # trend\n",
    "#                     changepoint_prior_scale=0.3,\n",
    "#                     n_changepoints=7\n",
    "#                     changepoint_range=1\n",
    "\n",
    "#                     # seasonality\n",
    "#                     yearly_seasonality=20,\n",
    "#                     weekly_seasonality=10,\n",
    "#                     daily_seasonality=False,\n",
    "#                     seasonality_prior_scale = 15,\n",
    "#                     seasonality_mode = 'multiplicative',\n",
    "    \n",
    "#                     # holiday\n",
    "#                     holidays = holiday,\n",
    "#                     holidays_prior_scale = 15\n",
    "# )\n",
    "# model.fit(train_data)\n",
    "# future = model.make_future_dataframe(periods = pred_periods)\n",
    "# forecast = model.predict(future)\n",
    "# fig = model.plot(forecast)\n",
    "# a = add_changepoints_to_plot(fig.gca(), m, forecast)  # gca()로 현재의 Axes를, gcf()로 현재의 Figure 객체를 구함 / 두 함수는 만약 현재의 Axes나 Figure가 없을 경우 새로 생성함"
   ]
  },
  {
   "cell_type": "code",
   "execution_count": null,
   "metadata": {
    "scrolled": true
   },
   "outputs": [],
   "source": [
    "\n",
    "            \n",
    "##############################################################           \n",
    "\n",
    "# 모델 적합\n",
    "df_prophet = Prophet(changepoint_prior_scale = 0.15, daily_seasonality = True)\n",
    "df_prophet.fit(df)\n",
    "\n",
    "# 향후 1년간의 time stamp 생성\n",
    "예측을 위해서는 예측하고자 하는 날짜가 ds 컬럼에 있어야함\n",
    "Prophet.make_future_dataframe을 사용하여 지정된 날짜 수만큼 미래로 확장되는 적절한 데이터 프레임을 얻을 수 있음\n",
    "기본적으로 모형의 훈련에 사용된 시계열의 날짜도 포함되므로 모델이 맞는지 확인할 수 있음\n",
    "\n",
    "fcast_time = 90\n",
    "df_forecast = df_prophet.make_future_dataframe(periods = fcast_time, freq = 'D')  # make_future_dataframe() 함수를 이용해 예측값을 넣을 데이터 프레임을 생성합니다. 이때, 인자로 들어가는 periods 값은 향후 몇일 (또는 주,월 등 단위 주기) 을 예측할 것인지를 의미\n",
    "df_forecast.tail(10)\n",
    "df_forecast = df_prophet.predict(df_forecast)\n",
    "\n",
    "# 예측 결과 확인\n",
    "df_forecast[['ds','yhat',..]].tail()\n",
    "\n",
    "# 예측값 시각화\n",
    "df_prophet.plot(df_forecast, xlabel = 'Data', ylabel = 'Price($)')\n",
    "\n",
    "## 예측 구성요소 확인\n",
    "# 예측에 사용된 구성 요소는 Prophet.plot_components 메소드를 사용하여 확인 가능\n",
    "# 기본적으로 시계열의 추세, 연간 계절성, 주간 계절성이 표시됨\n",
    "df_prophet.plot_components(df_forecast)\n",
    "plt.show()\n",
    "\n",
    "# 교차검증\n",
    "from fbprophet.diagnostics import cross_validation\n",
    "df_cv = cross_validation(df_prophet, initial = '1095 days', period = '180 days', horizon = '365 days')\n",
    "\n",
    "# 모형 성능 확인\n",
    "from fbprophet.diagnostics import performance_metrics\n",
    "df_p = performance_metrics(df_cv)\n",
    "df_p.head()\n",
    "\n",
    "# 교차검증 결과 시각화\n",
    "from fbprophet.plot import plot_cross_validation_metric\n",
    "fig = plot_cross_validation_metric(df_cv, metric = 'mae')\n",
    "\n",
    "##############################################################           \n",
    "            \n",
    "    # prophet\n",
    "    model = Prophet(yearly_seasonality=10, weekly_seasonality=False, daily_seasonality=False, \n",
    "                    changepoint_range=1, changepoint_prior_scale=0.1, n_changepoints=7)\n",
    "    \n",
    "#     # 모델의 Trend를 조절할 수 있는 파라미터는 다음과 같습니다.\n",
    "#     changepoints : 트렌드 변화시점을 명시한 리스트값\n",
    "#     changepoint_prior_scale : changepoint(trend) 의 유연성 조절\n",
    "#     n_changepoints : changepoint 의 개수\n",
    "#     changepoint_range : changepoint 설정 가능 범위. (기본적으로 데이터 중 80% 범위 내에서 changepoint를 설정합니다.)\n",
    "    \n",
    "    \n",
    "# 모델의 changepoint 를 시각화해보고, changepoint_prior_scale 값 변경에 따른 Trend 변화를 살펴보겠습니다.\n",
    "# changepoint_prior_scale = 0.05 (default)\n",
    "# 빨간 실선은 트렌드를 의미하며, 빨간 점선은 트렌드가 변화하는 changepoint 를 의미\n",
    "from fbprophet.plot import add_changepoints_to_plot\n",
    "\n",
    "fig = m.plot(forecast)\n",
    "a = add_changepoints_to_plot(fig.gca(), m, forecast)\n",
    "\n",
    "# changepoint_prior_scale = 0.3 인 경우\n",
    "m = Prophet(changepoint_prior_scale=0.3)\n",
    "m.fit(df)\n",
    "\n",
    "fig = m.plot(forecast)\n",
    "a = add_changepoints_to_plot(fig.gca(), m, forecast)\n",
    "\n",
    "# changepoint_prior_scale 값을 0.3으로 높여준 후 트렌드를 더 유연하게 감지하는 것을 확인할 수 있습니다.\n",
    "# 이 값을 너무 높여버리면 overfitting의 위험이 있으니 주의해야 합니다.\n",
    "# 만약 트렌드가 바뀌는 시점(서비스 확대 배포 또는 프로모션 등으로 인한 변화 시점)을 알고 있다면, changepoints 파라미터를 추가할 수 있음 (= 트렌드 바뀌는 시점을 리스트로 직접 지정)\n",
    "# changepoints 수 또한 n_changepoints 로 지정할 수 있습니다. 물론, 이 두 파라미터를 설정해주지 않아도 모델이 자동으로 감지합니다.\n",
    "\n",
    "\n",
    "\n",
    "\n",
    "    \n",
    "    \n",
    "#     prophet = Prophet()\n",
    "    model.fit(df_hap[['ds', 'y']])\n",
    "                      \n",
    "    # 5년 예측\n",
    "    future = model.make_future_dataframe(periods=5, freq='y')  #  periods 값은 향후 몇일 (또는 주,월 등 단위 주기) 을 예측할 것인지를 의미\n",
    "    forecast = model.predict(future)\n",
    "\n",
    "    # 예측값 시각화\n",
    "    fig1 = model.plot(forecast)\n",
    "    \n",
    "    # 피팅된 모델의 컴포넌트들을 시각화\n",
    "    fig2 = model.plot_components(forecast)\n",
    "    \n",
    "    # 컴포넌트 시각화 해석\n",
    "    # => 만약 모델이 데이터의 Trend를 잘 잡아내지 못하는 것 같다면, changepoint_prior_scale 파라미터값을 높여주어 changepoint를 더 민감하게 감지하도록 할 수 있습니다. 여기서 changepoint란, Trend가 변화하는 지점을 의미\n",
    "    # => 아래 차트는 각각 ‘주 계절성’과 ‘연 계절성’을 의미\n",
    "    # => Trend와 마찬가지로 Seasonality또한 seasonality_prior_scale 파라미터로 모델 반영 강도를 조절할 수 있습니다.\n",
    "    \n",
    "    \n",
    "    \n",
    "    \n",
    "    \n",
    "    \n",
    "    \n",
    "    \n",
    "    \n",
    "    \n",
    "    \n",
    "    \n",
    "    # 학생 수는 음의 값이 나올 수 없기 때문에 -인 경우 0으로 변경\n",
    "    forecast.yhat = forecast.yhat.apply(lambda x: 0 if x <= 0 else x)\n",
    "    \n",
    "    fore = forecast.loc[:, ['ds', 'yhat']]\n",
    "    fore.columns = ['ds', 'PRED_VAL']\n",
    "#     fore_df = fore[fore.ds <= '2020-12-31']\n",
    "    result2 = fore.copy(deep=True)\n",
    "    \n",
    "    # 실제값이랑 예측값 합치기\n",
    "    df_real = df_hap21[df_hap21['SIDO_EDU_NM'] == s]\n",
    "    df_real = df_real[['BASE_YY', 'y']]\n",
    "    df_real.columns = ['BASE_YY', 'REAL_VAL']\n",
    "    \n",
    "    result2['BASE_YY'] = result2['ds'].dt.year.astype('str')\n",
    "    result2 = result2.drop('ds', axis=1)\n",
    "    \n",
    "    df_pred_real = result2.merge(df_real, on='BASE_YY', how='outer')\n",
    "    df_pred_real['시도교육청'] = s\n",
    "    df_pred_real['교육지원청'] = sg\n",
    "    df_pred_real['학교구분'] = d\n",
    "    \n",
    "    df_pred_real = df_pred_real[['BASE_YY','시도교육청','교육지원청','학교구분','REAL_VAL','PRED_VAL']]\n",
    "    df_result = df_result.append(df_pred_real)\n",
    "    df_result['PRED_VAL'] = np.where(df_result['PRED_VAL'] < 0, 0, df_result['PRED_VAL'])\n",
    "#     result2['BASE_YY'] = pd.DatetimeIndex(result2['ds']).year.astype('str')\n",
    "#     result2 = result2.drop(['ds'], axis=1)\n",
    "    \n",
    "    # 정확도\n",
    "    df_result['acc'] = round(\n",
    "    1 - abs((df_result['REAL_VAL'] - df_result['PRED_VAL']) / df_result['REAL_VAL'])) * 100\n",
    "\n",
    "    \n",
    "    # 그래프\n",
    "    title = '%s %s %s' % (s,sg,d)\n",
    "     # plt = get_prophet_plot(prophet, forecast, title)\n",
    "    plt = get_line_plot(df_pred_real, 'BASE_YY', ['REAL_VAL', 'PRED_VAL'])\n",
    "    plt.title(title, size=20)\n",
    "    plt.savefig(res_path + 'prophet_%s.png' % (title))\n",
    "    plt.close()\n",
    "    \n",
    "    df_sub_acc = df_pred_real[~df_pred_real['BASE_YY'].isin(['2021', '2022', '2023', '2024', '2025'])]\n",
    "    r2 = r2_score(df_sub_acc['REAL_VAL'], df_sub_acc['PRED_VAL'])\n",
    "            \n",
    "    se = np.square(df_result['REAL_VAL'] - df_result['PRED_VAL'])\n",
    "    mse = np.mean(se)\n",
    "    rmse = np.sqrt(mse)\n",
    "    df_result['mse'] = se\n",
    "        # print('Mean Squared Error(MSE)--------', MSE)\n",
    "        \n",
    "    # 오류는 안나는데 데이터가 비정상적으로 많이 출력\n",
    "#     model_parameters = model_parameters.append(pd.DataFrame({'시도': s, '교육지원청명':sg , '학교구분': d ,'결정계수':r2,'MSE' : mse}, index=[0]))\n",
    "\n",
    "            "
   ]
  },
  {
   "cell_type": "code",
   "execution_count": null,
   "metadata": {},
   "outputs": [],
   "source": [
    "result2['BASE_YY'] = result2['ds'].dt.year.astype('str')\n",
    "result2 = result2.drop('ds', axis=1)\n",
    "result2"
   ]
  }
 ],
 "metadata": {
  "kernelspec": {
   "display_name": "sep",
   "language": "python",
   "name": "sep"
  },
  "language_info": {
   "codemirror_mode": {
    "name": "ipython",
    "version": 3
   },
   "file_extension": ".py",
   "mimetype": "text/x-python",
   "name": "python",
   "nbconvert_exporter": "python",
   "pygments_lexer": "ipython3",
   "version": "3.8.6"
  },
  "toc": {
   "base_numbering": 1,
   "nav_menu": {},
   "number_sections": true,
   "sideBar": true,
   "skip_h1_title": false,
   "title_cell": "Table of Contents",
   "title_sidebar": "Contents",
   "toc_cell": false,
   "toc_position": {},
   "toc_section_display": true,
   "toc_window_display": false
  },
  "varInspector": {
   "cols": {
    "lenName": 16,
    "lenType": 16,
    "lenVar": 40
   },
   "kernels_config": {
    "python": {
     "delete_cmd_postfix": "",
     "delete_cmd_prefix": "del ",
     "library": "var_list.py",
     "varRefreshCmd": "print(var_dic_list())"
    },
    "r": {
     "delete_cmd_postfix": ") ",
     "delete_cmd_prefix": "rm(",
     "library": "var_list.r",
     "varRefreshCmd": "cat(var_dic_list()) "
    }
   },
   "types_to_exclude": [
    "module",
    "function",
    "builtin_function_or_method",
    "instance",
    "_Feature"
   ],
   "window_display": false
  }
 },
 "nbformat": 4,
 "nbformat_minor": 4
}
