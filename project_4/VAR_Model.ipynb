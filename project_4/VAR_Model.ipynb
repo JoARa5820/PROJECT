{
 "cells": [
  {
   "cell_type": "markdown",
   "id": "9ffdf6b3",
   "metadata": {},
   "source": [
    "# 벡터자기회귀(VAR) 모형"
   ]
  },
  {
   "cell_type": "raw",
   "id": "48b13ddc",
   "metadata": {},
   "source": [
    "# VAR모형의 가장 큰 특징\n",
    "(1) 충격반응분석(impulse response analysis)을 통하여 어떠한 한 변수의 변화가 내생변수에 미치는 동태적 반응을 파악할 수 있다.\n",
    "(2) 분산분해(variance decomposition)를 통하여 각 내생변수의 변동이 전체변동에 기여한 부분의 상대적 크기를 분석할 수 있다.\n",
    "(3) 경제이론 보다는 실제 자료에서 도출된 결과를 분석한다.\n",
    "(4) 그러나 VAR모형은 사용되는 변수 및 표본기간, 시차길이를 따라서 결과가 달라질 수 있다는 약점이 있다.\n",
    "(VAR 모형의 예시: 환율과 수출 물가에 의한 상품수출모형을 설정하여 모형 설정과정과 해석방법 등을 설명)\n",
    "\n",
    "# 설명\n",
    "벡터자기회귀모형은 일변량 자기회귀모형을 다변량 자기회귀모형으로 확정시킨 모형으로\n",
    "예측 및 내생변수의 변화에 따른 효과분석 등과 관련하여 자주 활용되고 있다.\n",
    "전통적인 회귀모형에 의한 구조방정식모형은 변수간의 인과관계를 통하여 종속변수 Y를 몇 개의 설명 변수 {X1, X2, …}에 의해서 설명하고 있다.\n",
    "그러나 회귀모형에서는 설명변수의 영향이 시간 t가 변하더라도 항상 일정하다는 가정을 하고 있어\n",
    "구조적 변화가 급속히 진행되어 설명변수의 영향이 변한 경우 이를 적절히 반영하지 못한다는 약점이 있다.\n",
    "또한 구조모형(structuremodel)은 경제이론에 의해서 모형을 구축하고 있어\n",
    "변수선택 및 모형의 내․외생변수의 선정이 모형 설계자의 주관에 의해서 결정된다는 단점이 있다.\n",
    "따라서 이러한 시간에 대한 경직성과 주관성을 극복할 수 있는 방법이 Box and Jenkins(1976)의 ARIMA모형이라고 할 수 있다.\n",
    "ARIMA모형은 현재의 관측치 Zt는 과거의 어떠한 규칙성에 의해서 재현되며,\n",
    "이러한 규칙성은 미래에도 유지된다고 가정하고 미래를 예측하고자 했다.\n",
    "이러한 방법은 모형 설정이 용이한 반면 변수들 사이의 상호작용을 무시하고 있어 일변량분석이라는 한계에 부딪치게 된다.\n",
    "이들 회귀모형과 시계열분석의 한계를 보완한 모형이 Sims(1980)의 VAR모형이라 할 수 있다.\n",
    "[출처 : 통계청『통계분석연구』제2권 제1호(‘97.봄)23-56 / 벡터자기회귀(VAR)모형의 이해 / Vector Autoregressive Model: VAR / 문권순]\n",
    "\n",
    "-> 모든 변수는 시스템 안의 다른 모든 변수에 영향을 준다는 가정을 하기 때문에, 추정한 계수를 해석하는 것이 어렵다."
   ]
  },
  {
   "cell_type": "markdown",
   "id": "fa549a35",
   "metadata": {},
   "source": [
    "----------\n",
    "# 0. 환경설정"
   ]
  },
  {
   "cell_type": "code",
   "execution_count": 1,
   "id": "16393c2e",
   "metadata": {},
   "outputs": [],
   "source": [
    "# 라이브러리 호출\n",
    "import numpy as np\n",
    "import pandas as pd\n",
    "import time\n",
    "import glob\n",
    "import pickle\n",
    "import itertools\n",
    "\n",
    "import statsmodels.api as sm\n",
    "from statsmodels.tsa.api import VAR\n",
    "from statsmodels.tsa.stattools import adfuller\n",
    "from statsmodels.formula.api import ols\n",
    "from sklearn.model_selection import train_test_split\n",
    "\n",
    "import seaborn as sns\n",
    "import matplotlib.pyplot as plt\n",
    "from matplotlib import font_manager, rc\n",
    "%matplotlib inline\n",
    "\n",
    "import warnings\n",
    "warnings.filterwarnings('ignore')\n",
    "\n",
    "# 데이터프레임 출력 옵션\n",
    "pd.set_option('display.max_columns', 100)\n",
    "\n",
    "#지수표현\n",
    "pd.options.display.float_format = '{:.5f}'.format\n",
    "\n",
    "# # 그래프 폰트\n",
    "# font_name = font_manager.FontProperties(fname=\"c:/Windows/Fonts/malgun.ttf\").get_name()\n",
    "# rc('font', family=font_name)\n",
    "# plt.rc('font', family='Malgun Gothic')\n",
    "# plt.rcParams[\"figure.figsize\"] = (8, 4)\n",
    "# plt.rcParams['axes.unicode_minus'] = False"
   ]
  },
  {
   "cell_type": "markdown",
   "id": "830ec71f",
   "metadata": {},
   "source": [
    "----------\n",
    "# 1. 입력값 기입"
   ]
  },
  {
   "cell_type": "markdown",
   "id": "9756ab52",
   "metadata": {},
   "source": [
    "## 1-1. 표준화 정보"
   ]
  },
  {
   "cell_type": "code",
   "execution_count": 2,
   "id": "60858d0c",
   "metadata": {},
   "outputs": [],
   "source": [
    "## 독립변수(x)에 대하여 표준화 진행 시 원하는 표준화 기법 선택 (입력 안하면 표준화 진행 X)\n",
    "# 1 : 표준화1(StandardScaler) : 평균 = 0 / 표준편차 = 1\n",
    "# 2 : 표준화2(Normalization) : MinMaxScaler : 최소값 0 ~ 최대값 1 : 이상값에 영향 받음\n",
    "# 3 : 표준화3(RobustScaler) : 중앙값 = 0 / IQR(1분위(25%) ~ 3분위(75%)) = 1 \n",
    "select_scaler = 1  # (1, 2, 3) 중 택 1"
   ]
  },
  {
   "cell_type": "markdown",
   "id": "8ea1c2b6",
   "metadata": {},
   "source": [
    "## 1-2. 상관분석 정보"
   ]
  },
  {
   "cell_type": "code",
   "execution_count": 3,
   "id": "26056bcb",
   "metadata": {},
   "outputs": [],
   "source": [
    "## 상관계수 값 설정 (y와 x변수간의 단일 상관계수 값이 'corr_stand_val' 이상인 x변수만 입력변수로 사용)\n",
    "# 입력변수 : 모델링에 이용되는 변수\n",
    "corr_stand_val = 0.5"
   ]
  },
  {
   "cell_type": "markdown",
   "id": "7dddfb82",
   "metadata": {},
   "source": [
    "----\n",
    "# 2. 데이터 호출"
   ]
  },
  {
   "cell_type": "raw",
   "id": "5475896c",
   "metadata": {},
   "source": [
    "## 아래의 데이터를 저장하여 사용함\n",
    "# import tensorflow as tf\n",
    "# import matplotlib as mpl\n",
    "# import matplotlib.pyplot as plt\n",
    "# import numpy as np\n",
    "# import os\n",
    "# import pandas as pd\n",
    "\n",
    "# mpl.rcParams['figure.figsize'] = (8, 6)\n",
    "# mpl.rcParams['axes.grid'] = False\n",
    "\n",
    "# zip_path = tf.keras.utils.get_file(\n",
    "#   origin='https://storage.googleapis.com/tensorflow/tf-keras-datasets/jena_climate_2009_2016.csv.zip',\n",
    "#   fname='jena_climate_2009_2016.csv.zip',\n",
    "#   extract=True)\n",
    "# csv_path, _ = os.path.splitext(zip_path)\n",
    "# df = pd.read_csv(csv_path)\n",
    "# df.to_csv('ts_data(jena_climate_2009_2016).csv', index=False, encoding = 'utf-8')"
   ]
  },
  {
   "cell_type": "raw",
   "id": "237e9604",
   "metadata": {},
   "source": [
    "## 컬럼 설명\n",
    "Index   Features           Format                  Description\n",
    "1       Date Time          01.01.2009 00:10:00     Date-time reference\n",
    "2       p (mbar)           996.52                  The pascal SI derived unit of pressure used to quantify internal pressure. Meteorological reports typically state atmospheric pressure in millibars.\n",
    "3       T (degC)           -8.02                   Temperature in Celsius\n",
    "4       Tpot (K)           265.4                   Temperature in Kelvin\n",
    "5       Tdew (degC)        -8.9                    Temperature in Celsius relative to humidity. Dew Point is a measure of the absolute amount of water in the air, the DP is the temperature at which the air cannot hold all the moisture in it and water condenses.\n",
    "6       rh (%)             93.3                    Relative Humidity is a measure of how saturated the air is with water vapor, the %RH determines the amount of water contained within collection objects.\n",
    "7       VPmax (mbar)       3.33                    Saturation vapor pressure\n",
    "8       VPact (mbar)       3.11                    Vapor pressure\n",
    "9       VPdef (mbar)       0.22                    Vapor pressure deficit\n",
    "10      sh (g/kg)          1.94                    Specific humidity\n",
    "11      H2OC (mmol/mol)    3.12                    Water vapor concentration\n",
    "12      rho (g/m ** 3)     1307.75                 Airtight\n",
    "13      wv (m/s)           1.03                    Wind speed\n",
    "14      max. wv (m/s)      1.75                    Maximum wind speed\n",
    "15      wd (deg)           152.3                   Wind direction in degrees"
   ]
  },
  {
   "cell_type": "code",
   "execution_count": 4,
   "id": "c9f25634",
   "metadata": {},
   "outputs": [],
   "source": [
    "# 데이터 호출 및 필요 컬럼 정리\n",
    "data = pd.read_csv('data/ts_data(jena_climate_2009_2016).csv', encoding = 'utf-8')\n",
    "data.columns = list(pd.Series(list(data.columns)).map(lambda x : x.replace(' ','')))\n",
    "\n",
    "# (날짜변수/종속변수/독립변수) 컬럼명 정의 : x_colnm\n",
    "tm_colnm = 'DateTime'\n",
    "y_colnm = 'T(degC)'\n",
    "x_colnm = list(set(data.columns).difference({y_colnm}).difference({tm_colnm}))\n",
    "\n",
    "\n",
    "# # 임시 --------------------------------------------------------------------------------------\n",
    "# use_col = ['DateTime','T(degC)','p(mbar)','rh(%)','VPmax(mbar)','H2OC(mmol/mol)','wv(m/s)']\n",
    "# data = data[use_col]\n",
    "data = pd.concat([data[y_colnm].shift(-1), data[x_colnm]], axis = 1)\n",
    "data = data.iloc[:1000]"
   ]
  },
  {
   "cell_type": "code",
   "execution_count": 5,
   "id": "b3ffcfdf",
   "metadata": {
    "scrolled": false
   },
   "outputs": [
    {
     "name": "stdout",
     "output_type": "stream",
     "text": [
      "<class 'numpy.float64'>\n",
      "<class 'numpy.float64'>\n",
      "<class 'numpy.float64'>\n",
      "<class 'numpy.float64'>\n",
      "<class 'numpy.float64'>\n",
      "<class 'numpy.float64'>\n",
      "<class 'numpy.float64'>\n",
      "<class 'numpy.float64'>\n",
      "<class 'numpy.float64'>\n",
      "<class 'numpy.float64'>\n",
      "<class 'numpy.float64'>\n",
      "<class 'numpy.float64'>\n",
      "<class 'numpy.float64'>\n",
      "<class 'numpy.float64'>\n"
     ]
    }
   ],
   "source": [
    "for i in data.columns:\n",
    "    print(type(data[i][0]))"
   ]
  },
  {
   "cell_type": "markdown",
   "id": "33150658-760b-4ee5-9a67-19f8314b656f",
   "metadata": {},
   "source": [
    "------\n",
    "# 3. 모델링"
   ]
  },
  {
   "cell_type": "markdown",
   "id": "cd10ff0e",
   "metadata": {},
   "source": [
    "## 3-1. 데이터 전처리"
   ]
  },
  {
   "cell_type": "code",
   "execution_count": 6,
   "id": "200043ec",
   "metadata": {},
   "outputs": [],
   "source": [
    "# -------------------------------------------------------------------------------------------------------------- #\n",
    "# 데이터 형 변환(str -> float)\n",
    "data[[y_colnm] + x_colnm] = data[[y_colnm] + x_colnm].astype('float')\n",
    "# -------------------------------------------------------------------------------------------------------------- #\n",
    "# (train_x / train_y / test_x / test_y) 데이터 분할\n",
    "train_x, test_x, train_y, test_y = train_test_split(data[x_colnm], data[y_colnm], test_size = 0.2, shuffle = False, random_state = 1234)\n",
    "train_x.reset_index(drop=True, inplace=True)\n",
    "test_x.reset_index(drop=True, inplace=True)\n",
    "train_y.reset_index(drop=True, inplace=True)\n",
    "test_y.reset_index(drop=True, inplace=True)\n",
    "# -------------------------------------------------------------------------------------------------------------- #\n",
    "## 표준화 수행\n",
    "\n",
    "# StandardScaler : 평균 0, 표준편차 1\n",
    "if select_scaler == 1:\n",
    "    from sklearn.preprocessing import StandardScaler\n",
    "    scaler = StandardScaler()   \n",
    "    mody_train_x = pd.DataFrame(scaler.fit_transform(train_x), columns = list(train_x.columns))\n",
    "    mody_test_x = pd.DataFrame(scaler.transform(test_x), columns = list(test_x.columns))\n",
    "\n",
    "# Normalization : MinMaxScaler : 최소값 0 ~ 최대값 1\n",
    "elif select_scaler == 2:\n",
    "    from sklearn.preprocessing import MinMaxScaler\n",
    "    scaler = MinMaxScaler()\n",
    "    mody_train_x = pd.DataFrame(scaler.fit_transform(train_x), columns = list(train_x.columns))\n",
    "    mody_test_x = pd.DataFrame(scaler.transform(test_x), columns = list(test_x.columns))\n",
    "\n",
    "# RobustScaler : 중앙값 0, IQR(1분위(25%) ~ 3분위(75%)) 1 : 이상치(outlier) 영향 최소화 / 더 넓게 분포\n",
    "elif select_scaler == 3:\n",
    "    from sklearn.preprocessing import RobustScaler\n",
    "    scaler = RobustScaler()\n",
    "    mody_train_x = pd.DataFrame(scaler.fit_transform(train_x), columns = list(train_x.columns))\n",
    "    mody_test_x = pd.DataFrame(scaler.transform(test_x), columns = list(test_x.columns))\n",
    "\n",
    "# 표준화 수행 X\n",
    "else:\n",
    "    mody_train_x = train_x\n",
    "    mody_test_x = test_x\n",
    "# -------------------------------------------------------------------------------------------------------------- #\n",
    "# inf / -inf 값을 null 처리\n",
    "mody_train_x = mody_train_x.replace([np.inf, -np.inf], np.nan)\n",
    "mody_test_x = mody_test_x.replace([np.inf, -np.inf], np.nan)        \n",
    "# -------------------------------------------------------------------------------------------------------------- #\n",
    "# 모델에 사용할 train, test 데이터셋\n",
    "mdl_train_data = pd.concat([train_y, mody_train_x], axis = 1)\n",
    "mdl_test_data = mody_test_x\n",
    "# -------------------------------------------------------------------------------------------------------------- #\n",
    "## 독립변수 선택\n",
    "\n",
    "# 1. 상관분석 : 상관분석은 train 데이터셋에 대해서만 진행 (test 데이터셋 이용 X)\n",
    "corr = mdl_train_data.corr(method = 'pearson')  # default는 'pearson'\n",
    "corr = corr.reset_index().rename(columns = {'index':'COLNM'})\n",
    "corr = corr.loc[corr['COLNM'] != y_colnm,]\n",
    "corr = corr[corr[y_colnm] >= corr_stand_val]\n",
    "\n",
    "# 2. 상관분석 결과로 선택된 독립변수 목록\n",
    "mdl_x_colnm = list(corr['COLNM'])\n",
    "\n",
    "# 3. 독립변수 목록 중 null값이 없는 독립변수만 선택\n",
    "train_na_col = []\n",
    "for col in mdl_test_data.columns:\n",
    "    if len(mdl_train_data.loc[mdl_train_data[col].isna(),]) != 0:\n",
    "        train_na_col.append(col)\n",
    "\n",
    "test_na_col = []\n",
    "for col in mdl_test_data.columns:\n",
    "    if len(mdl_test_data.loc[mdl_test_data[col].isna(),]) != 0:\n",
    "        test_na_col.append(col)\n",
    "\n",
    "tot_na_col = list(set(train_na_col + test_na_col))  # null값이 있는 독립변수들\n",
    "mdl_x_colnm = list(set(mdl_x_colnm).difference(set(tot_na_col)))  # 모델에 사용할 독립변수들(상관분석 결과 - null값이 있는 변수)\n",
    "\n",
    "if len(mdl_x_colnm) == 0:  # 모델에 사용할 독립변수의 수가 0이면 => 기본 독립변수 중 null값이 없는 변수를 선택 \n",
    "    mdl_x_colnm = x_colnm\n",
    "    mdl_x_colnm = list(set(mdl_x_colnm).difference(set(tot_na_col)))  # 모델에 사용할 독립변수들\n",
    "# -------------------------------------------------------------------------------------------------------------- #\n",
    "\n",
    "mdl_train_data = mdl_train_data[[y_colnm] + mdl_x_colnm]\n",
    "mdl_test_data = mdl_test_data[mdl_x_colnm]"
   ]
  },
  {
   "cell_type": "markdown",
   "id": "c58facd7",
   "metadata": {},
   "source": [
    "## 3-2. 정상성 확인 (ADF-Test)"
   ]
  },
  {
   "cell_type": "code",
   "execution_count": null,
   "id": "f5519757",
   "metadata": {},
   "outputs": [],
   "source": [
    "## 정상성 확인 (ADF-Test)\n",
    "# 귀무가설 : 정상성이 없다 = 시계열 흐름이 불규칙하다\n",
    "# p-value가 0.05보다 크면 귀무가설을 기각할 수 없음 = 정상성이 없다 = 시계열 흐름이 불규칙하다\n",
    "ADF_test_statistic = []\n",
    "p_value = []\n",
    "for i in mdl_train_data.columns[1:]:\n",
    "    adfuller_test = adfuller(mdl_train_data[i], autolag= \"AIC\")\n",
    "    ADF_test_statistic.append(adfuller_test[0])\n",
    "    p_value.append(adfuller_test[1])\n",
    "\n",
    "ADF_col_nm = pd.DataFrame(mdl_train_data.columns[1:]).rename(columns = {0:'col_nm'})\n",
    "ADF_test_statistic = pd.DataFrame(ADF_test_statistic).rename(columns = {0:'ADF_test_statistic'})\n",
    "p_value = pd.DataFrame(p_value).rename(columns = {0:'p_value'})\n",
    "\n",
    "ADF_test = pd.concat([ADF_col_nm, ADF_test_statistic, p_value], axis = 1)\n",
    "\n",
    "# 전체 ADF_test 결과 출력\n",
    "ADF_test"
   ]
  },
  {
   "cell_type": "code",
   "execution_count": 39,
   "id": "9ca52d96",
   "metadata": {},
   "outputs": [
    {
     "data": {
      "text/html": [
       "<div>\n",
       "<style scoped>\n",
       "    .dataframe tbody tr th:only-of-type {\n",
       "        vertical-align: middle;\n",
       "    }\n",
       "\n",
       "    .dataframe tbody tr th {\n",
       "        vertical-align: top;\n",
       "    }\n",
       "\n",
       "    .dataframe thead th {\n",
       "        text-align: right;\n",
       "    }\n",
       "</style>\n",
       "<table border=\"1\" class=\"dataframe\">\n",
       "  <thead>\n",
       "    <tr style=\"text-align: right;\">\n",
       "      <th></th>\n",
       "      <th>col_nm</th>\n",
       "      <th>ADF_test_statistic</th>\n",
       "      <th>p_value</th>\n",
       "    </tr>\n",
       "  </thead>\n",
       "  <tbody>\n",
       "    <tr>\n",
       "      <th>0</th>\n",
       "      <td>VPact(mbar)</td>\n",
       "      <td>-0.93889</td>\n",
       "      <td>0.77490</td>\n",
       "    </tr>\n",
       "    <tr>\n",
       "      <th>1</th>\n",
       "      <td>Tdew(degC)</td>\n",
       "      <td>-0.94636</td>\n",
       "      <td>0.77232</td>\n",
       "    </tr>\n",
       "    <tr>\n",
       "      <th>2</th>\n",
       "      <td>H2OC(mmol/mol)</td>\n",
       "      <td>-0.94971</td>\n",
       "      <td>0.77116</td>\n",
       "    </tr>\n",
       "    <tr>\n",
       "      <th>3</th>\n",
       "      <td>Tpot(K)</td>\n",
       "      <td>-1.77611</td>\n",
       "      <td>0.39239</td>\n",
       "    </tr>\n",
       "    <tr>\n",
       "      <th>4</th>\n",
       "      <td>sh(g/kg)</td>\n",
       "      <td>-0.94497</td>\n",
       "      <td>0.77280</td>\n",
       "    </tr>\n",
       "    <tr>\n",
       "      <th>5</th>\n",
       "      <td>VPmax(mbar)</td>\n",
       "      <td>-1.46610</td>\n",
       "      <td>0.55021</td>\n",
       "    </tr>\n",
       "  </tbody>\n",
       "</table>\n",
       "</div>"
      ],
      "text/plain": [
       "           col_nm  ADF_test_statistic  p_value\n",
       "0     VPact(mbar)            -0.93889  0.77490\n",
       "1      Tdew(degC)            -0.94636  0.77232\n",
       "2  H2OC(mmol/mol)            -0.94971  0.77116\n",
       "3         Tpot(K)            -1.77611  0.39239\n",
       "4        sh(g/kg)            -0.94497  0.77280\n",
       "5     VPmax(mbar)            -1.46610  0.55021"
      ]
     },
     "execution_count": 39,
     "metadata": {},
     "output_type": "execute_result"
    }
   ],
   "source": [
    "ADF_test"
   ]
  },
  {
   "cell_type": "code",
   "execution_count": 44,
   "id": "c1ae4122",
   "metadata": {
    "scrolled": true
   },
   "outputs": [
    {
     "data": {
      "text/plain": [
       "0"
      ]
     },
     "execution_count": 44,
     "metadata": {},
     "output_type": "execute_result"
    }
   ],
   "source": [
    "if len(list(ADF_test.loc[ADF_test['p_value'] < 0.05,'col_nm'])) == 0:\n",
    "    pass\n",
    "else:\n",
    "    sdsad"
   ]
  },
  {
   "cell_type": "code",
   "execution_count": 47,
   "id": "8ed5cc86",
   "metadata": {
    "scrolled": true
   },
   "outputs": [
    {
     "data": {
      "text/plain": [
       "['VPact(mbar)',\n",
       " 'Tdew(degC)',\n",
       " 'H2OC(mmol/mol)',\n",
       " 'Tpot(K)',\n",
       " 'sh(g/kg)',\n",
       " 'VPmax(mbar)']"
      ]
     },
     "execution_count": 47,
     "metadata": {},
     "output_type": "execute_result"
    }
   ],
   "source": [
    " = list(ADF_test.loc[ADF_test['p_value'] >= 0.05,'col_nm'])"
   ]
  },
  {
   "cell_type": "code",
   "execution_count": null,
   "id": "06a60dc8",
   "metadata": {},
   "outputs": [],
   "source": []
  },
  {
   "cell_type": "markdown",
   "id": "d4a5783b",
   "metadata": {},
   "source": [
    "## 3-3. VAR 모형 생성"
   ]
  },
  {
   "cell_type": "code",
   "execution_count": 8,
   "id": "2491dcdd",
   "metadata": {},
   "outputs": [],
   "source": [
    "## VAR 모형의 최적 순서 탐색 : (1) AIC 값은 낮을수록 좋음 / (2) Grid-Search를 수행하여 최소 AIC를 만족하는 최적의 p를 탐색\n",
    "model = VAR(mdl_train_data)\n",
    "\n",
    "fit_param = []\n",
    "result_aic = []\n",
    "for p in range(1,len(mdl_train_data) + 1):\n",
    "    try :\n",
    "        fitted_model = model.fit(p)  # 모델 생성\n",
    "        fit_param.append(p)\n",
    "        result_aic.append(fitted_model.aic)\n",
    "    except :\n",
    "        pass\n",
    "\n",
    "fit_param = pd.DataFrame(fit_param, columns = ['fit_param'])\n",
    "result_aic = pd.DataFrame(result_aic, columns = ['result_aic'])\n",
    "fit_param_df = pd.concat([fit_param,result_aic], axis = 1)\n",
    "\n",
    "# 최적의 p 값 도출 : fit_param_val\n",
    "fit_param_val = list(fit_param_df.loc[fit_param_df['result_aic'] == fit_param_df['result_aic'].min(), 'fit_param'])[0]\n",
    "\n",
    "# # 최적 p 값 그래프로 확인\n",
    "# plt.plot(fit_param_df['fit_param'], fit_param_df['result_aic'])\n",
    "# plt.plot(fit_param_df['fit_param'][0:200], fit_param_df['result_aic'][0:200])"
   ]
  },
  {
   "cell_type": "code",
   "execution_count": 9,
   "id": "9bc8242f",
   "metadata": {},
   "outputs": [],
   "source": [
    "## 모델 생성\n",
    "fitted_model = model.fit(fit_param_val)\n",
    "# fitted_model.summary()  # 모델 fitting 결과"
   ]
  },
  {
   "cell_type": "code",
   "execution_count": 10,
   "id": "9d85845f",
   "metadata": {},
   "outputs": [],
   "source": [
    "## 예측 수행\n",
    "forecast_num = len(mdl_test_data)  # 몇 개의 값을 예측할 것인지?"
   ]
  },
  {
   "cell_type": "code",
   "execution_count": 38,
   "id": "b04f2b94",
   "metadata": {},
   "outputs": [
    {
     "data": {
      "text/html": [
       "<div>\n",
       "<style scoped>\n",
       "    .dataframe tbody tr th:only-of-type {\n",
       "        vertical-align: middle;\n",
       "    }\n",
       "\n",
       "    .dataframe tbody tr th {\n",
       "        vertical-align: top;\n",
       "    }\n",
       "\n",
       "    .dataframe thead th {\n",
       "        text-align: right;\n",
       "    }\n",
       "</style>\n",
       "<table border=\"1\" class=\"dataframe\">\n",
       "  <thead>\n",
       "    <tr style=\"text-align: right;\">\n",
       "      <th></th>\n",
       "      <th>T(degC)</th>\n",
       "      <th>VPact(mbar)</th>\n",
       "      <th>Tdew(degC)</th>\n",
       "      <th>H2OC(mmol/mol)</th>\n",
       "      <th>Tpot(K)</th>\n",
       "      <th>sh(g/kg)</th>\n",
       "      <th>VPmax(mbar)</th>\n",
       "    </tr>\n",
       "  </thead>\n",
       "  <tbody>\n",
       "    <tr>\n",
       "      <th>0</th>\n",
       "      <td>-10.53819</td>\n",
       "      <td>-1.68107</td>\n",
       "      <td>-1.80017</td>\n",
       "      <td>-1.63358</td>\n",
       "      <td>-1.33837</td>\n",
       "      <td>-1.64027</td>\n",
       "      <td>-1.52837</td>\n",
       "    </tr>\n",
       "    <tr>\n",
       "      <th>1</th>\n",
       "      <td>-10.52668</td>\n",
       "      <td>-1.54599</td>\n",
       "      <td>-1.61314</td>\n",
       "      <td>-1.50313</td>\n",
       "      <td>-1.19735</td>\n",
       "      <td>-1.51891</td>\n",
       "      <td>-1.47888</td>\n",
       "    </tr>\n",
       "    <tr>\n",
       "      <th>2</th>\n",
       "      <td>-10.56718</td>\n",
       "      <td>-1.43435</td>\n",
       "      <td>-1.52780</td>\n",
       "      <td>-1.39268</td>\n",
       "      <td>-1.19111</td>\n",
       "      <td>-1.41533</td>\n",
       "      <td>-1.44647</td>\n",
       "    </tr>\n",
       "    <tr>\n",
       "      <th>3</th>\n",
       "      <td>-10.56739</td>\n",
       "      <td>-1.43657</td>\n",
       "      <td>-1.52899</td>\n",
       "      <td>-1.37209</td>\n",
       "      <td>-1.19164</td>\n",
       "      <td>-1.42588</td>\n",
       "      <td>-1.43529</td>\n",
       "    </tr>\n",
       "    <tr>\n",
       "      <th>4</th>\n",
       "      <td>-10.19992</td>\n",
       "      <td>-1.41024</td>\n",
       "      <td>-1.46219</td>\n",
       "      <td>-1.35647</td>\n",
       "      <td>-1.18398</td>\n",
       "      <td>-1.44582</td>\n",
       "      <td>-1.43978</td>\n",
       "    </tr>\n",
       "    <tr>\n",
       "      <th>...</th>\n",
       "      <td>...</td>\n",
       "      <td>...</td>\n",
       "      <td>...</td>\n",
       "      <td>...</td>\n",
       "      <td>...</td>\n",
       "      <td>...</td>\n",
       "      <td>...</td>\n",
       "    </tr>\n",
       "    <tr>\n",
       "      <th>195</th>\n",
       "      <td>2034.07616</td>\n",
       "      <td>-251.71356</td>\n",
       "      <td>-572.72463</td>\n",
       "      <td>-219.14309</td>\n",
       "      <td>-784.08747</td>\n",
       "      <td>-207.66427</td>\n",
       "      <td>-449.21199</td>\n",
       "    </tr>\n",
       "    <tr>\n",
       "      <th>196</th>\n",
       "      <td>2827.04024</td>\n",
       "      <td>117.46556</td>\n",
       "      <td>450.21273</td>\n",
       "      <td>204.79874</td>\n",
       "      <td>455.16762</td>\n",
       "      <td>-9.27966</td>\n",
       "      <td>307.56308</td>\n",
       "    </tr>\n",
       "    <tr>\n",
       "      <th>197</th>\n",
       "      <td>-3423.92988</td>\n",
       "      <td>273.12524</td>\n",
       "      <td>497.97121</td>\n",
       "      <td>206.01338</td>\n",
       "      <td>658.20656</td>\n",
       "      <td>266.88268</td>\n",
       "      <td>354.45539</td>\n",
       "    </tr>\n",
       "    <tr>\n",
       "      <th>198</th>\n",
       "      <td>-2161.49288</td>\n",
       "      <td>-188.06106</td>\n",
       "      <td>-647.24893</td>\n",
       "      <td>-262.64085</td>\n",
       "      <td>-778.92847</td>\n",
       "      <td>-47.45427</td>\n",
       "      <td>-496.14497</td>\n",
       "    </tr>\n",
       "    <tr>\n",
       "      <th>199</th>\n",
       "      <td>4298.41817</td>\n",
       "      <td>-201.65373</td>\n",
       "      <td>-308.19860</td>\n",
       "      <td>-103.68554</td>\n",
       "      <td>-511.53434</td>\n",
       "      <td>-244.12829</td>\n",
       "      <td>-255.83130</td>\n",
       "    </tr>\n",
       "  </tbody>\n",
       "</table>\n",
       "<p>200 rows × 7 columns</p>\n",
       "</div>"
      ],
      "text/plain": [
       "        T(degC)  VPact(mbar)  Tdew(degC)  H2OC(mmol/mol)    Tpot(K)  \\\n",
       "0     -10.53819     -1.68107    -1.80017        -1.63358   -1.33837   \n",
       "1     -10.52668     -1.54599    -1.61314        -1.50313   -1.19735   \n",
       "2     -10.56718     -1.43435    -1.52780        -1.39268   -1.19111   \n",
       "3     -10.56739     -1.43657    -1.52899        -1.37209   -1.19164   \n",
       "4     -10.19992     -1.41024    -1.46219        -1.35647   -1.18398   \n",
       "..          ...          ...         ...             ...        ...   \n",
       "195  2034.07616   -251.71356  -572.72463      -219.14309 -784.08747   \n",
       "196  2827.04024    117.46556   450.21273       204.79874  455.16762   \n",
       "197 -3423.92988    273.12524   497.97121       206.01338  658.20656   \n",
       "198 -2161.49288   -188.06106  -647.24893      -262.64085 -778.92847   \n",
       "199  4298.41817   -201.65373  -308.19860      -103.68554 -511.53434   \n",
       "\n",
       "      sh(g/kg)  VPmax(mbar)  \n",
       "0     -1.64027     -1.52837  \n",
       "1     -1.51891     -1.47888  \n",
       "2     -1.41533     -1.44647  \n",
       "3     -1.42588     -1.43529  \n",
       "4     -1.44582     -1.43978  \n",
       "..         ...          ...  \n",
       "195 -207.66427   -449.21199  \n",
       "196   -9.27966    307.56308  \n",
       "197  266.88268    354.45539  \n",
       "198  -47.45427   -496.14497  \n",
       "199 -244.12829   -255.83130  \n",
       "\n",
       "[200 rows x 7 columns]"
      ]
     },
     "execution_count": 38,
     "metadata": {},
     "output_type": "execute_result"
    }
   ],
   "source": [
    "lagged_values = np.array(mdl_train_data[-fit_param_val:])  # mdl_train_data[-fit_param_val:].values = np.array(mdl_train_data[-fit_param_val:])\n",
    "predict = pd.DataFrame(fitted_model.forecast(lagged_values, steps = forecast_num), columns = list(mdl_train_data.columns))\n",
    "predict"
   ]
  },
  {
   "cell_type": "code",
   "execution_count": null,
   "id": "72fbd10f",
   "metadata": {},
   "outputs": [],
   "source": []
  },
  {
   "cell_type": "code",
   "execution_count": null,
   "id": "29f8c901",
   "metadata": {},
   "outputs": [],
   "source": [
    "# -------------------------------------------------------------------------------------------------------------- #\n",
    "## 결과값 정리\n",
    "rslt = pd.concat([pred, test_y], axis = 1)\n",
    "rslt['target'] = trg\n",
    "rslt['stand_time'] = list(data.loc[~data['YEAR'].isin(train_year),'STAND_TIME'])\n",
    "rslt['BEST_MDL'] = save_lb['model_id'][0]  # 최적 모델명\n",
    "rslt['DIFF'] = rslt['PREDICT'] - rslt[y_colnm]\n",
    "rslt['mdl_x_colnm'] = str(mdl_x_colnm)\n",
    "\n",
    "rslt['PREDICT'] = round(rslt['PREDICT'],4)\n",
    "rslt[y_colnm] = round(rslt[y_colnm],4)\n",
    "rslt['DIFF'] = round(rslt['DIFF'],4)\n",
    "\n",
    "rslt = rslt[['target', 'stand_time', 'PREDICT', y_colnm, 'DIFF', 'BEST_MDL']]\n",
    "# -------------------------------------------------------------------------------------------------------------- #\n",
    "## 결과값 저장\n",
    "if trg == loop_target[0]:\n",
    "    fin_result = rslt\n",
    "else:\n",
    "    fin_result = fin_result.append(rslt)\n",
    "\n",
    "fin_result.to_csv(save_folder + '/result_' + file_nm + '.csv', index=False, encoding = 'utf-8')"
   ]
  },
  {
   "cell_type": "markdown",
   "id": "173729bf-2ed9-45e7-822e-7313ece1de28",
   "metadata": {},
   "source": [
    "------------"
   ]
  }
 ],
 "metadata": {
  "kernelspec": {
   "display_name": "Python 3 (ipykernel)",
   "language": "python",
   "name": "python3"
  },
  "language_info": {
   "codemirror_mode": {
    "name": "ipython",
    "version": 3
   },
   "file_extension": ".py",
   "mimetype": "text/x-python",
   "name": "python",
   "nbconvert_exporter": "python",
   "pygments_lexer": "ipython3",
   "version": "3.8.10"
  }
 },
 "nbformat": 4,
 "nbformat_minor": 5
}
