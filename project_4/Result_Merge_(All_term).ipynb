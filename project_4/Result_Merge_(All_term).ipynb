{
 "cells": [
  {
   "cell_type": "code",
   "execution_count": null,
   "id": "dbfb52b7",
   "metadata": {},
   "outputs": [],
   "source": [
    "## 코드 설명 :\n",
    "# (1) (월/분기/반기/연) 결과 통합\n",
    "# (2) 최소 '연 MSE' 값 기준의 최적 모델 선택"
   ]
  },
  {
   "cell_type": "markdown",
   "id": "ca0e3b4b",
   "metadata": {},
   "source": [
    "------------\n",
    "## 0. 환경설정"
   ]
  },
  {
   "cell_type": "code",
   "execution_count": 7,
   "id": "b5e715eb",
   "metadata": {},
   "outputs": [],
   "source": [
    "# 라이브러리 호출\n",
    "import numpy as np\n",
    "import pandas as pd\n",
    "import time\n",
    "import glob\n",
    "import pickle\n",
    "import itertools\n",
    "\n",
    "import warnings\n",
    "warnings.filterwarnings('ignore')\n",
    "\n",
    "# 데이터프레임 출력 옵션\n",
    "pd.set_option('display.max_columns', 100)\n",
    "\n",
    "#지수표현\n",
    "pd.options.display.float_format = '{:.5f}'.format"
   ]
  },
  {
   "cell_type": "markdown",
   "id": "f5d28d54",
   "metadata": {},
   "source": [
    "---------\n",
    "## 1. 입력값 기입"
   ]
  },
  {
   "cell_type": "code",
   "execution_count": 8,
   "id": "4d5a5c9e",
   "metadata": {},
   "outputs": [],
   "source": [
    "# data_folder : 원본데이터 위치(폴더명)\n",
    "# save_folder : 변환데이터 저장 위치(폴더명)\n",
    "# file_nm : 파일명\n",
    "# y_colnm : y 컬럼명\n",
    "\n",
    "data_folder = 'result'\n",
    "save_folder = 'result/mody'\n",
    "file_nm = ['result_month_merge_cls_new',\n",
    "           'result_quarter_merge_cls_new',\n",
    "           'result_half_merge_cls_new',\n",
    "           'result_year_merge_cls_new']\n",
    "y_colnm = ['SEP_CNT','SEP_CNT','SEP_CNT','SEP_CNT']\n",
    "\n",
    "division_list = ['cls']  # age, dis 추가 가능(위의 file_nm 리스트에 맞는 구분자 입력)"
   ]
  },
  {
   "cell_type": "code",
   "execution_count": 9,
   "id": "fdc81133",
   "metadata": {},
   "outputs": [],
   "source": [
    "# 파일 정보 통합\n",
    "file_info = pd.DataFrame(file_nm).rename(columns = {0:'file_nm'})\n",
    "file_info['y_colnm'] = y_colnm"
   ]
  },
  {
   "cell_type": "markdown",
   "id": "52dcbd5d",
   "metadata": {},
   "source": [
    "---------\n",
    "## 1. 각 결과별 '연 MSE' 값 계산"
   ]
  },
  {
   "cell_type": "code",
   "execution_count": 10,
   "id": "64c21a93",
   "metadata": {},
   "outputs": [],
   "source": [
    "for divis in division_list:\n",
    "    divis_file_info = file_info.loc[file_info['file_nm'].str.contains('cls')].reset_index(drop=True)\n",
    "    \n",
    "    nujuk_yr_result_val = pd.DataFrame()  # 전체 결과값 확인\n",
    "    nujuk_yr_result = pd.DataFrame()      # MSE값 비교\n",
    "\n",
    "    for file_num in range(len(divis_file_info)):\n",
    "\n",
    "        file_nm = divis_file_info['file_nm'][file_num]\n",
    "        y_colnm = divis_file_info['y_colnm'][file_num]\n",
    "\n",
    "        data = pd.read_csv(data_folder + '/' + file_nm + '.csv', encoding = 'utf-8')\n",
    "\n",
    "        data['stand_time'] = data['stand_time'].astype('str')     # 컬럼 타입 변환\n",
    "        data['YEAR'] = data['stand_time'].map(lambda x : x[0:4])  # YEAR 컬럼 생성\n",
    "\n",
    "        # target별로 YEAR 컬럼으로 grouping하여 연값 생성\n",
    "        gb_yr = data.groupby(['target','YEAR']).sum().reset_index()\n",
    "        gb_yr['YR_MSE'] = gb_yr['DIFF'] * gb_yr['DIFF']                               # YR_DIFF가 연값(1개)이므로 MSE 계산 시 1로 나눠줌(여기서는 1 나누기 생략)        \n",
    "        gb_yr['CLASS'] = file_nm                                                      # 파일명 구분 (월/분기/반기/연)\n",
    "        gb_yr = pd.merge(gb_yr, data[['target','YEAR','BEST_MDL']], how = 'left')\n",
    "        gb_yr = gb_yr.sort_values(by = ['CLASS','target','YEAR'])                   # target명 순으로 정렬\n",
    "        gb_yr['CLASS'] = gb_yr['CLASS'].map(lambda x : x.split('_')[1])\n",
    "\n",
    "        nujuk_yr_result_val = nujuk_yr_result_val.append(gb_yr)\n",
    "\n",
    "        tmp = gb_yr[['CLASS','target','YEAR','YR_MSE']]\n",
    "        tmp.rename(columns = {'YR_MSE':list(gb_yr['CLASS'].unique())[0]}, inplace=True)\n",
    "        tmp = tmp[['target','YEAR',list(gb_yr['CLASS'].unique())[0]]]\n",
    "\n",
    "        if file_num == 0:\n",
    "            nujuk_yr_result = tmp\n",
    "        else:\n",
    "            nujuk_yr_result = pd.merge(nujuk_yr_result, tmp, how = 'left')\n",
    "\n",
    "    nujuk_yr_result['MIN_MSE'] = np.NaN\n",
    "    nujuk_yr_result['CLASS'] = ''\n",
    "\n",
    "    for num in range(len(nujuk_yr_result)):\n",
    "        nujuk_yr_result['MIN_MSE'][num] = nujuk_yr_result.iloc[num][['month','quarter','half','year']].min()\n",
    "\n",
    "        if nujuk_yr_result['MIN_MSE'][num] == nujuk_yr_result['month'][num]:\n",
    "            nujuk_yr_result['CLASS'][num] = 'month'\n",
    "        elif nujuk_yr_result['MIN_MSE'][num] == nujuk_yr_result['quarter'][num]:\n",
    "            nujuk_yr_result['CLASS'][num] = 'quarter'\n",
    "        elif nujuk_yr_result['MIN_MSE'][num] == nujuk_yr_result['half'][num]:\n",
    "            nujuk_yr_result['CLASS'][num] = 'half'\n",
    "        elif nujuk_yr_result['MIN_MSE'][num] == nujuk_yr_result['year'][num]:\n",
    "            nujuk_yr_result['CLASS'][num] = 'year'\n",
    "        else :\n",
    "            pass\n",
    "\n",
    "    nujuk_yr_result_val = nujuk_yr_result_val.drop_duplicates().reset_index(drop=True)\n",
    "    nujuk_yr_result = nujuk_yr_result.drop_duplicates().reset_index(drop=True)\n",
    "\n",
    "    tot_result = pd.merge(nujuk_yr_result[['target','YEAR','CLASS']], nujuk_yr_result_val, on = ['CLASS','target','YEAR'], how = 'left')\n",
    "    tot_result.rename(columns = {'CLASS':'SELECTED_MODEL','target':'TARGET'}, inplace=True)\n",
    "    \n",
    "    tot_result.to_csv(save_folder + '/Total_Result_' + divis + '.csv', index=False)"
   ]
  },
  {
   "cell_type": "markdown",
   "id": "76204ade",
   "metadata": {},
   "source": [
    "-------------"
   ]
  }
 ],
 "metadata": {
  "kernelspec": {
   "display_name": "Python 3 (ipykernel)",
   "language": "python",
   "name": "python3"
  },
  "language_info": {
   "codemirror_mode": {
    "name": "ipython",
    "version": 3
   },
   "file_extension": ".py",
   "mimetype": "text/x-python",
   "name": "python",
   "nbconvert_exporter": "python",
   "pygments_lexer": "ipython3",
   "version": "3.8.10"
  }
 },
 "nbformat": 4,
 "nbformat_minor": 5
}
